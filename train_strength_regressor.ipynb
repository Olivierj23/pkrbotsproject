{
 "cells": [
  {
   "cell_type": "code",
   "execution_count": 18,
   "metadata": {},
   "outputs": [],
   "source": [
    "import numpy as np\n",
    "import eval7\n",
    "import xgboost as xgb\n",
    "from sklearn.model_selection import train_test_split\n",
    "from sklearn.metrics import mean_squared_error\n",
    "from sklearn.metrics import accuracy_score\n",
    "from sklearn.model_selection import cross_val_score\n",
    "from sklearn.model_selection import RepeatedKFold\n",
    "from joblib import Parallel, delayed\n",
    "from tqdm.notebook import tqdm\n",
    "import random"
   ]
  },
  {
   "cell_type": "code",
   "execution_count": 2,
   "metadata": {},
   "outputs": [],
   "source": [
    "NUM_CARDS = 5\n",
    "\n",
    "def card_strs2vec(cards):\n",
    "    return cards2vec([eval7.Card(card_str) for card_str in cards])\n",
    "\n",
    "def cards2vec(cards, num_cards = NUM_CARDS):\n",
    "    card_encodings = np.zeros((4+13)*num_cards)\n",
    "    for card_idx, card in enumerate(cards):\n",
    "        offset = (4+13)*card_idx\n",
    "        card_encodings[offset + card.suit] = 1\n",
    "        card_encodings[offset + 4 + card.rank] = 1\n",
    "    return card_encodings"
   ]
  },
  {
   "cell_type": "code",
   "execution_count": 3,
   "metadata": {},
   "outputs": [],
   "source": [
    "MC_ITERS = 100_000\n",
    "_COMM = 5  # number of community cards we need to draw\n",
    "_OPP = 2\n",
    "\n",
    "\n",
    "def calc_hole_strength(hole_cards, iters=MC_ITERS):\n",
    "    '''\n",
    "    Using MC with iterations to evalute hand strength\n",
    "    Args:\n",
    "    hole - our hole cards\n",
    "    iters - number of times we run MC\n",
    "    community - community cards\n",
    "    '''\n",
    "\n",
    "    deck = eval7.Deck()  # deck of cards\n",
    "\n",
    "    for card in hole_cards:  # removing our hole cards from the deck\n",
    "        deck.cards.remove(card)\n",
    "\n",
    "    # the score is the number of times we win, tie, or lose\n",
    "    score = 0\n",
    "\n",
    "    for _ in range(iters):  # MC the probability of winning\n",
    "        deck.shuffle()\n",
    "\n",
    "        draw = deck.peek(_COMM + _OPP)\n",
    "\n",
    "        opp_hole = draw[:_OPP]\n",
    "        # the community cards that we draw in the MC\n",
    "        alt_community = draw[_OPP:]\n",
    "\n",
    "        our_hand = hole_cards + alt_community\n",
    "        opp_hand = opp_hole + alt_community\n",
    "\n",
    "        our_hand_value = eval7.evaluate(our_hand)\n",
    "        opp_hand_value = eval7.evaluate(opp_hand)\n",
    "\n",
    "        if our_hand_value > opp_hand_value:\n",
    "            score += 2\n",
    "\n",
    "        if our_hand_value == opp_hand_value:\n",
    "            score += 1\n",
    "        else:\n",
    "            score += 0\n",
    "\n",
    "    hand_strength = score/(2*iters)  # win probability\n",
    "\n",
    "    return cards2vec(hole_cards), hand_strength\n",
    "\n",
    "\n",
    "def calc_5card_strength(hole_cards, community_cards, iters=MC_ITERS):\n",
    "        '''\n",
    "        Using MC with iterations to evalute hand strength\n",
    "        Draws len(hole_cards) cards for opponent and evaluates winrate vs our hand\n",
    "        Args:\n",
    "        hole_cards\n",
    "        community_cards\n",
    "        iters - number of times we run MC\n",
    "        community - community cards\n",
    "        '''\n",
    "\n",
    "        deck = eval7.Deck() # deck of cards\n",
    "\n",
    "        for card in community_cards: #removing the current community cards from the deck\n",
    "            deck.cards.remove(card)\n",
    "\n",
    "        for card in hole_cards: #removing our hole cards from the deck\n",
    "            deck.cards.remove(card)\n",
    "\n",
    "        #the score is the number of times we win, tie, or lose\n",
    "        score = 0\n",
    "\n",
    "        for _ in range(iters): # MC the probability of winning\n",
    "            deck.shuffle()\n",
    "\n",
    "            _OPP = len(hole_cards)\n",
    "\n",
    "            opp_hole = deck.peek(_OPP)\n",
    "\n",
    "            our_hand = hole_cards + community_cards\n",
    "            opp_hand = opp_hole + community_cards\n",
    "\n",
    "\n",
    "            our_hand_value = eval7.evaluate(our_hand)\n",
    "            opp_hand_value = eval7.evaluate(opp_hand)\n",
    "\n",
    "            if our_hand_value > opp_hand_value:\n",
    "                score += 2\n",
    "\n",
    "            if our_hand_value == opp_hand_value:\n",
    "                score += 1\n",
    "            else:\n",
    "                score += 0\n",
    "\n",
    "        hand_strength = score/(2*iters) # win probability\n",
    "\n",
    "        return cards2vec(our_hand), hand_strength\n"
   ]
  },
  {
   "cell_type": "code",
   "execution_count": 4,
   "metadata": {},
   "outputs": [],
   "source": [
    "DATASET_POINTS = 25_000\n",
    "\n",
    "\n",
    "def random_preflop_strength():\n",
    "    deck = eval7.Deck()\n",
    "    deck.shuffle()\n",
    "    draw = deck.peek(2)\n",
    "    return calc_hole_strength(draw)\n",
    "\n",
    "def random_postflop_strength():\n",
    "    deck = eval7.Deck()\n",
    "    deck.shuffle()\n",
    "    len_hole = random.choice((1,2))\n",
    "    draw = deck.peek(5)\n",
    "    hole = draw[:len_hole]\n",
    "    community = draw[len_hole:]\n",
    "\n",
    "    return calc_5card_strength(hole, community)\n",
    "\n",
    "# computes post-flop winrates of a hole, aka our preflop strength\n",
    "def generate_preflop_strengths():\n",
    "    dataset = Parallel(n_jobs=-1)(delayed(random_preflop_strength)() for i in tqdm(range(DATASET_POINTS)))\n",
    "    return dataset\n",
    "# computes post-flop winrates of a hole, aka our preflop strength\n",
    "def generate_postflop_strengths():\n",
    "    dataset = Parallel(n_jobs=-1)(delayed(random_postflop_strength)() for i in tqdm(range(DATASET_POINTS)))\n",
    "    return dataset"
   ]
  },
  {
   "cell_type": "code",
   "execution_count": 29,
   "metadata": {},
   "outputs": [
    {
     "data": {
      "application/vnd.jupyter.widget-view+json": {
       "model_id": "696094cd844c4e8fbe6cff67a5fe6d07",
       "version_major": 2,
       "version_minor": 0
      },
      "text/plain": [
       "  0%|          | 0/25000 [00:00<?, ?it/s]"
      ]
     },
     "metadata": {},
     "output_type": "display_data"
    },
    {
     "name": "stderr",
     "output_type": "stream",
     "text": [
      " 10%|▉         | 95/1000 [44:47<7:06:43, 28.29s/it]\n"
     ]
    }
   ],
   "source": [
    "preflop_X, preflop_Y = zip(*generate_preflop_strengths())\n"
   ]
  },
  {
   "cell_type": "code",
   "execution_count": 30,
   "metadata": {},
   "outputs": [],
   "source": [
    "import pickle\n",
    "with open(\"2card_MC_strength_data.pkl\", \"wb\") as f:\n",
    "    pickle.dump((preflop_X, preflop_Y), f)"
   ]
  },
  {
   "cell_type": "code",
   "execution_count": 31,
   "metadata": {},
   "outputs": [
    {
     "name": "stdout",
     "output_type": "stream",
     "text": [
      "[array([1., 0., 0., 0., 1., 0., 0., 0., 0., 0., 0., 0., 0., 0., 0., 0., 0.,\n",
      "       0., 0., 0., 1., 1., 0., 0., 0., 0., 0., 0., 0., 0., 0., 0., 0., 0.,\n",
      "       0., 0., 0., 0., 0., 0., 0., 0., 0., 0., 0., 0., 0., 0., 0., 0., 0.,\n",
      "       0., 0., 0., 0., 0., 0., 0., 0., 0., 0., 0., 0., 0., 0., 0., 0., 0.,\n",
      "       0., 0., 0., 0., 0., 0., 0., 0., 0., 0., 0., 0., 0., 0., 0., 0., 0.]), array([0., 1., 0., 0., 0., 0., 1., 0., 0., 0., 0., 0., 0., 0., 0., 0., 0.,\n",
      "       0., 1., 0., 0., 0., 0., 0., 0., 0., 0., 0., 0., 0., 0., 0., 0., 1.,\n",
      "       0., 0., 0., 0., 0., 0., 0., 0., 0., 0., 0., 0., 0., 0., 0., 0., 0.,\n",
      "       0., 0., 0., 0., 0., 0., 0., 0., 0., 0., 0., 0., 0., 0., 0., 0., 0.,\n",
      "       0., 0., 0., 0., 0., 0., 0., 0., 0., 0., 0., 0., 0., 0., 0., 0., 0.]), array([0., 0., 0., 1., 0., 0., 0., 1., 0., 0., 0., 0., 0., 0., 0., 0., 0.,\n",
      "       0., 0., 1., 0., 0., 0., 0., 0., 0., 0., 0., 0., 1., 0., 0., 0., 0.,\n",
      "       0., 0., 0., 0., 0., 0., 0., 0., 0., 0., 0., 0., 0., 0., 0., 0., 0.,\n",
      "       0., 0., 0., 0., 0., 0., 0., 0., 0., 0., 0., 0., 0., 0., 0., 0., 0.,\n",
      "       0., 0., 0., 0., 0., 0., 0., 0., 0., 0., 0., 0., 0., 0., 0., 0., 0.])] [0.504025, 0.589755, 0.44331]\n"
     ]
    }
   ],
   "source": []
  },
  {
   "cell_type": "code",
   "execution_count": null,
   "metadata": {},
   "outputs": [],
   "source": [
    "\n",
    "xtrain, xtest, ytrain, ytest = train_test_split(preflop_X, preflop_Y, test_size=0.2)\n",
    "print(xtrain[:3], ytrain[:3])"
   ]
  },
  {
   "cell_type": "code",
   "execution_count": 32,
   "metadata": {},
   "outputs": [
    {
     "data": {
      "text/plain": [
       "XGBRegressor(base_score=None, booster=None, callbacks=None,\n",
       "             colsample_bylevel=None, colsample_bynode=None,\n",
       "             colsample_bytree=0.8, early_stopping_rounds=None,\n",
       "             enable_categorical=False, eta=0.1, eval_metric=None,\n",
       "             feature_types=None, gamma=None, gpu_id=None, grow_policy=None,\n",
       "             importance_type=None, interaction_constraints=None,\n",
       "             learning_rate=None, max_bin=None, max_cat_threshold=None,\n",
       "             max_cat_to_onehot=None, max_delta_step=None, max_depth=7,\n",
       "             max_leaves=None, min_child_weight=None, missing=nan,\n",
       "             monotone_constraints=None, n_estimators=1000, n_jobs=None,\n",
       "             num_parallel_tree=None, predictor=None, ...)"
      ]
     },
     "execution_count": 32,
     "metadata": {},
     "output_type": "execute_result"
    }
   ],
   "source": [
    "xgb_hole_r = xgb.XGBRegressor(n_estimators=1000, max_depth=7, eta=0.1, subsample=0.7, colsample_bytree=0.8)\n",
    "\n",
    "# Fitting the model\n",
    "xgb_hole_r.fit(xtrain, ytrain)"
   ]
  },
  {
   "cell_type": "code",
   "execution_count": 44,
   "metadata": {},
   "outputs": [],
   "source": [
    "with open(\"2card_xgbregressor.pkl\", \"wb\") as f:\n",
    "    pickle.dump(xgb_hole_r, f)"
   ]
  },
  {
   "cell_type": "code",
   "execution_count": 45,
   "metadata": {},
   "outputs": [
    {
     "name": "stdout",
     "output_type": "stream",
     "text": [
      "Mean MAE: 0.002 (0.000)\n"
     ]
    }
   ],
   "source": [
    "\n",
    "cv = RepeatedKFold(n_splits=10, n_repeats=3, random_state=1)\n",
    "# evaluate model\n",
    "scores = cross_val_score(xgb_hole_r, xtest, ytest, scoring='neg_mean_absolute_error', cv=cv, n_jobs=-1)\n",
    "# force scores to be positive\n",
    "scores = np.absolute(scores)\n",
    "print('Mean MAE: %.3f (%.3f)' % (scores.mean(), scores.std()) )"
   ]
  },
  {
   "cell_type": "code",
   "execution_count": 43,
   "metadata": {},
   "outputs": [
    {
     "name": "stdout",
     "output_type": "stream",
     "text": [
      "testhand1: ['As', 'Ac'] score: [0.851856]\n",
      "true MC: 0.851815\n",
      "testhand2: ['Kc', '3d'] score: [0.5136813]\n",
      "true MC: 0.51388\n",
      "testhand3: ['5c', '7d'] score: [0.40464035]\n",
      "true MC: 0.40415\n"
     ]
    }
   ],
   "source": [
    "#import timeit\n",
    "testhand1 = ['As','Ac']\n",
    "testhand2 = ['Kc','3d']\n",
    "testhand3 = ['5c','7d']\n",
    "\n",
    "print(\"testhand1:\",testhand1, \"score:\", xgb_hole_r.predict([card_strs2vec(testhand1)]))\n",
    "print(\"true MC:\", calc_hole_strength([eval7.Card(card) for card in testhand1])[1])\n",
    "print(\"testhand2:\",testhand2, \"score:\", xgb_hole_r.predict([card_strs2vec(testhand2)]))\n",
    "print(\"true MC:\", calc_hole_strength([eval7.Card(card) for card in testhand2])[1])\n",
    "print(\"testhand3:\",testhand3, \"score:\", xgb_hole_r.predict([card_strs2vec(testhand3)])) # avg 807 micro s\n",
    "print(\"true MC:\", calc_hole_strength([eval7.Card(card) for card in testhand3])[1]) # avg 1.8 s"
   ]
  },
  {
   "cell_type": "code",
   "execution_count": 5,
   "metadata": {},
   "outputs": [
    {
     "data": {
      "application/vnd.jupyter.widget-view+json": {
       "model_id": "498d8ed2e6064d75b4d99d36bb5136cf",
       "version_major": 2,
       "version_minor": 0
      },
      "text/plain": [
       "  0%|          | 0/25000 [00:00<?, ?it/s]"
      ]
     },
     "metadata": {},
     "output_type": "display_data"
    },
    {
     "ename": "NameError",
     "evalue": "name 'pickle' is not defined",
     "output_type": "error",
     "traceback": [
      "\u001b[1;31m---------------------------------------------------------------------------\u001b[0m",
      "\u001b[1;31mNameError\u001b[0m                                 Traceback (most recent call last)",
      "Cell \u001b[1;32mIn[5], line 3\u001b[0m\n\u001b[0;32m      1\u001b[0m postflop_X, postflop_Y \u001b[39m=\u001b[39m \u001b[39mzip\u001b[39m(\u001b[39m*\u001b[39mgenerate_postflop_strengths())\n\u001b[0;32m      2\u001b[0m \u001b[39mwith\u001b[39;00m \u001b[39mopen\u001b[39m(\u001b[39m\"\u001b[39m\u001b[39m5card_MC_strength_data.pkl\u001b[39m\u001b[39m\"\u001b[39m, \u001b[39m\"\u001b[39m\u001b[39mwb\u001b[39m\u001b[39m\"\u001b[39m) \u001b[39mas\u001b[39;00m f:\n\u001b[1;32m----> 3\u001b[0m     pickle\u001b[39m.\u001b[39mdump((postflop_X, postflop_Y), f)\n",
      "\u001b[1;31mNameError\u001b[0m: name 'pickle' is not defined"
     ]
    }
   ],
   "source": [
    "postflop_X, postflop_Y = zip(*generate_postflop_strengths())"
   ]
  },
  {
   "cell_type": "code",
   "execution_count": 6,
   "metadata": {},
   "outputs": [],
   "source": [
    "import pickle\n",
    "with open(\"5card_MC_strength_data.pkl\", \"wb\") as f:\n",
    "    pickle.dump((postflop_X, postflop_Y), f)"
   ]
  },
  {
   "cell_type": "code",
   "execution_count": 9,
   "metadata": {},
   "outputs": [
    {
     "name": "stdout",
     "output_type": "stream",
     "text": [
      "[array([0., 1., 0., 0., 0., 0., 0., 0., 0., 0., 0., 0., 0., 1., 0., 0., 0.,\n",
      "       1., 0., 0., 0., 0., 0., 0., 0., 0., 0., 0., 0., 0., 0., 1., 0., 0.,\n",
      "       0., 0., 0., 1., 0., 0., 0., 0., 1., 0., 0., 0., 0., 0., 0., 0., 0.,\n",
      "       0., 1., 0., 0., 0., 0., 0., 0., 0., 0., 0., 0., 1., 0., 0., 0., 0.,\n",
      "       0., 0., 1., 0., 0., 0., 0., 0., 1., 0., 0., 0., 0., 0., 0., 0., 0.]), array([1., 0., 0., 0., 0., 0., 0., 0., 0., 0., 0., 0., 0., 0., 0., 0., 1.,\n",
      "       0., 0., 1., 0., 0., 0., 0., 0., 0., 1., 0., 0., 0., 0., 0., 0., 0.,\n",
      "       0., 0., 1., 0., 0., 0., 0., 0., 0., 0., 0., 0., 0., 1., 0., 0., 0.,\n",
      "       0., 0., 1., 0., 0., 0., 0., 0., 0., 0., 0., 0., 1., 0., 0., 0., 0.,\n",
      "       1., 0., 0., 0., 0., 0., 0., 0., 0., 0., 0., 0., 0., 0., 0., 1., 0.]), array([0., 0., 1., 0., 0., 0., 0., 0., 0., 0., 0., 1., 0., 0., 0., 0., 0.,\n",
      "       0., 0., 1., 0., 0., 0., 0., 0., 0., 0., 0., 0., 0., 0., 0., 0., 1.,\n",
      "       1., 0., 0., 0., 0., 0., 0., 0., 0., 0., 0., 1., 0., 0., 0., 0., 0.,\n",
      "       0., 0., 0., 1., 0., 0., 0., 0., 0., 0., 0., 0., 0., 0., 0., 0., 1.,\n",
      "       0., 0., 0., 1., 0., 1., 0., 0., 0., 0., 0., 0., 0., 0., 0., 0., 0.])] [0.47052, 0.548635, 0.93618]\n"
     ]
    }
   ],
   "source": [
    "xtrain, xtest, ytrain, ytest = train_test_split(postflop_X, postflop_Y, test_size=0.2)\n",
    "print(xtrain[:3], ytrain[:3])"
   ]
  },
  {
   "cell_type": "code",
   "execution_count": 10,
   "metadata": {},
   "outputs": [
    {
     "data": {
      "text/plain": [
       "XGBRegressor(base_score=None, booster=None, callbacks=None,\n",
       "             colsample_bylevel=None, colsample_bynode=None,\n",
       "             colsample_bytree=0.8, early_stopping_rounds=None,\n",
       "             enable_categorical=False, eta=0.1, eval_metric=None,\n",
       "             feature_types=None, gamma=None, gpu_id=None, grow_policy=None,\n",
       "             importance_type=None, interaction_constraints=None,\n",
       "             learning_rate=None, max_bin=None, max_cat_threshold=None,\n",
       "             max_cat_to_onehot=None, max_delta_step=None, max_depth=7,\n",
       "             max_leaves=None, min_child_weight=None, missing=nan,\n",
       "             monotone_constraints=None, n_estimators=1000, n_jobs=None,\n",
       "             num_parallel_tree=None, predictor=None, ...)"
      ]
     },
     "execution_count": 10,
     "metadata": {},
     "output_type": "execute_result"
    }
   ],
   "source": [
    "xgb_community_r = xgb.XGBRegressor(n_estimators=1000, max_depth=7, eta=0.1, subsample=0.7, colsample_bytree=0.8)\n",
    "\n",
    "# Fitting the model\n",
    "xgb_community_r.fit(xtrain, ytrain)"
   ]
  },
  {
   "cell_type": "code",
   "execution_count": 13,
   "metadata": {},
   "outputs": [
    {
     "name": "stdout",
     "output_type": "stream",
     "text": [
      "Mean MAE: 0.127 (0.004)\n"
     ]
    }
   ],
   "source": [
    "cv = RepeatedKFold(n_splits=10, n_repeats=3, random_state=1)\n",
    "# evaluate model\n",
    "scores = cross_val_score(xgb_community_r, xtest, ytest, scoring='neg_mean_absolute_error', cv=cv, n_jobs=-1)\n",
    "# force scores to be positive\n",
    "scores = np.absolute(scores)\n",
    "print('Mean MAE: %.3f (%.3f)' % (scores.mean(), scores.std()) )"
   ]
  },
  {
   "cell_type": "code",
   "execution_count": 17,
   "metadata": {},
   "outputs": [
    {
     "name": "stdout",
     "output_type": "stream",
     "text": [
      "testhand1: ['As', 'Ac', 'Ah', 'Th', 'Td'] score: [0.97692275]\n",
      "true MC: 0.99908\n",
      "testhand3: ['5c', '7d', '2h', 'Js', 'Th'] score: [0.23672412]\n",
      "true MC: 0.105045\n"
     ]
    }
   ],
   "source": [
    "#import timeit\n",
    "testhand1 = ['As','Ac','Ah', 'Th','Td']\n",
    "testhand1c = [eval7.Card(card) for card in testhand1]\n",
    "testhand2 = ['5c','7d','2h','Js','Th']\n",
    "testhand2c = [eval7.Card(card) for card in testhand2]\n",
    "\n",
    "print(\"testhand1:\",testhand1, \"score:\", xgb_community_r.predict([card_strs2vec(testhand1)]))\n",
    "print(\"true MC:\", calc_5card_strength(testhand1c[:2], testhand1c[2:])[1])\n",
    "print(\"testhand3:\",testhand3, \"score:\", xgb_community_r.predict([card_strs2vec(testhand2)])) # avg 807 micro s\n",
    "print(\"true MC:\", calc_5card_strength(testhand2c[:2], testhand2c[2:])[1])"
   ]
  }
 ],
 "metadata": {
  "kernelspec": {
   "display_name": "base",
   "language": "python",
   "name": "python3"
  },
  "language_info": {
   "codemirror_mode": {
    "name": "ipython",
    "version": 3
   },
   "file_extension": ".py",
   "mimetype": "text/x-python",
   "name": "python",
   "nbconvert_exporter": "python",
   "pygments_lexer": "ipython3",
   "version": "3.8.15"
  },
  "orig_nbformat": 4,
  "vscode": {
   "interpreter": {
    "hash": "9900fb86eb791649ee39f16951d1899f87b8e9c1a9f120c98b0fd5c3876333d7"
   }
  }
 },
 "nbformat": 4,
 "nbformat_minor": 2
}
