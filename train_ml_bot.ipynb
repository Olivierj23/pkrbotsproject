{
 "cells": [
  {
   "cell_type": "code",
   "execution_count": 2,
   "metadata": {},
   "outputs": [],
   "source": [
    "from dataclasses import dataclass\n",
    "import re"
   ]
  },
  {
   "cell_type": "code",
   "execution_count": 3,
   "metadata": {},
   "outputs": [
    {
     "name": "stdout",
     "output_type": "stream",
     "text": [
      "[{pot size: 100; {'As', 'Ac'} => raises}, {pot size: 150; {'Js', 'Tc'} => raises}]\n"
     ]
    }
   ],
   "source": [
    "@dataclass\n",
    "class GoodMove:\n",
    "    cards: set#[str]\n",
    "    action: str\n",
    "    pot_size: int\n",
    "\n",
    "    def __str__(self):\n",
    "        return \"{pot size: \"+str(self.pot_size)+\"; \"+str(self.cards)+\" => \"+self.action+\"}\"\n",
    "\n",
    "    def __repr__(self):\n",
    "        return \"{pot size: \"+str(self.pot_size)+\"; \"+str(self.cards)+\" => \"+self.action +\"}\"\n",
    "\n",
    "print([GoodMove(set([\"Ac\",\"As\"]),\"raises\", 100),GoodMove(set([\"Tc\",\"Js\"]),\"raises\", 150)])"
   ]
  },
  {
   "cell_type": "code",
   "execution_count": 9,
   "metadata": {},
   "outputs": [
    {
     "name": "stdout",
     "output_type": "stream",
     "text": [
      "[{pot size: 2; {'As', 'Qs'} => raises}, {pot size: 2; {'As', 'Qs'} => raises}, {pot size: 23; {'6h', 'Kd', '3h', 'Qs', 'As'} => checks}, {pot size: 23; {'6h', 'Kd', '3h', 'Qs', 'Tc', 'As'} => bets}, {pot size: 57; {'6h', 'Kd', 'Ac', '3h', 'Qs', 'Tc', 'As'} => checks}, {pot size: 2; {'Th', '5c'} => checks}, {pot size: 2; {'Th', '5d', '5c', 'Ac', '9s'} => bets}, {pot size: 2; {'Qc', '3d'} => calls}, {pot size: 2; {'Qc', '3d'} => calls}, {pot size: 4; {'Qc', 'Qs', '9d', '3d', '2c'} => checks}] 5060\n"
     ]
    }
   ],
   "source": [
    "# input gamestate:\n",
    "# each card using a 1hot-boolean vector for suit and a 1hot-boolean vector for rank\n",
    "# give it the river and the hole as tensors\n",
    "# size of the pot\n",
    "# opponent chip contribution in previous round\n",
    "\n",
    "with open('training_log.txt', 'r') as f:\n",
    "    gamelog = f.read()\n",
    "games = gamelog.split(\"\\n\\n\")\n",
    "\n",
    "bracket_matcher = re.compile(\"\\[(.*?)\\]\")\n",
    "parenthesis_matcher = re.compile(\"\\((.*?)\\)\")\n",
    "\n",
    "def parse_game(game:str): #-> list[GoodMove]:\n",
    "    #print(game)\n",
    "    good_moves = []\n",
    "    gamelines = game.split('\\n')\n",
    "\n",
    "    A_moves = list(filter(lambda line: line[0]=='A', gamelines))\n",
    "    B_moves = list(filter(lambda line: line[0]=='B', gamelines))\n",
    "    player_moves = {'A': A_moves, 'B': B_moves}\n",
    "    \n",
    "    dealer_moves = list(filter(lambda line: not (line in A_moves or line in B_moves), gamelines))\n",
    "\n",
    "    A_awarded = int(A_moves[-1].split()[-1])\n",
    "    winner = 'A' if A_awarded > 0 else 'B'\n",
    "    \n",
    "    \n",
    "    winning_hole = set()\n",
    "    losing_hole = set()\n",
    "    river = set()\n",
    "    winning_action = None\n",
    "    pot_size = 2\n",
    "    opp_contribution = 0\n",
    "    for line in gamelines:\n",
    "\n",
    "        winning_turn = line[0] == winner\n",
    "\n",
    "\n",
    "        if \"dealt\" in line:\n",
    "            cards = bracket_matcher.search(line).group().replace(\"[\", \"\").replace(\"]\",\"\").split()\n",
    "            if winning_turn:\n",
    "                winning_hole = set(cards)\n",
    "            else:\n",
    "                losing_hole = set(cards)\n",
    "            continue\n",
    "\n",
    "        if \"Flop\" in line or \"Turn\" in line or \"River\" in line or \"Run\" in line:\n",
    "            cards = bracket_matcher.search(line).group().replace(\"[\",\"\").replace(\"]\",\"\").split()\n",
    "            river = river.union(set(cards))\n",
    "            pot_size = int(parenthesis_matcher.search(line).group().replace(\"(\", \"\").replace(\")\",\"\"))\n",
    "            continue\n",
    "\n",
    "        if winning_turn:\n",
    "            if \"calls\" in line or \"checks\" in line or \"bets\" in line or \"raises\" in line:\n",
    "                winning_action = line.split()[1]\n",
    "                winning_move = GoodMove(winning_hole.union(river), winning_action, pot_size)\n",
    "                good_fold = GoodMove(losing_hole.union(river), \"folds\", pot_size)            \n",
    "                \n",
    "                good_moves.append(winning_move)\n",
    "                #good_moves.append(good_fold) ### commented out for testing removing folds from dataset\n",
    "    \n",
    "    return good_moves\n",
    "\n",
    "\n",
    "parsed_moves = []\n",
    "for game in games[1:-1]:\n",
    "    parsed_moves+=parse_game(game)\n",
    "\n",
    "print(parsed_moves[:10], len(parsed_moves)) \n"
   ]
  },
  {
   "cell_type": "code",
   "execution_count": 13,
   "metadata": {},
   "outputs": [],
   "source": [
    "# action order: fold, call, check, raise\n",
    "import numpy as np\n",
    "import eval7\n",
    "action_encodings = {\"folds\": 0, \"calls\": 1, \"checks\":2, \"raises\": 3, \"bets\": 3} # bet is the same as raise\n",
    "nofold_action_encoding = {\"calls\":0, \"checks\":1, \"raises\": 2, \"bets\":2}\n",
    "MAX_CARDS = 15\n",
    "def card_strs2vec(cards):#:list[str]):\n",
    "    card_encodings = np.zeros((4+13)*MAX_CARDS)\n",
    "    \n",
    "    for card_idx, card_str in enumerate(cards):\n",
    "        card = eval7.Card(card_str)\n",
    "        #print(\"card.rank\", card.rank, \"card.suit\", card.suit)\n",
    "        offset = (4+13)*card_idx\n",
    "\n",
    "        card_encodings[offset + card.suit] = 1\n",
    "        card_encodings[offset + 4 + card.rank] = 1\n",
    "    return card_encodings\n",
    "\n",
    "def goodmove2vec(move:GoodMove):\n",
    "    action_encoding = nofold_action_encoding[move.action]#action_encodings[move.action] # xgboost doesn't use 1hot encoding for classes\n",
    "    card_encodings = card_strs2vec(move.cards)\n",
    "    return np.concatenate((card_encodings, [move.pot_size])), action_encoding"
   ]
  },
  {
   "cell_type": "code",
   "execution_count": 7,
   "metadata": {},
   "outputs": [
    {
     "name": "stdout",
     "output_type": "stream",
     "text": [
      "(array([1., 0., 0., 0., 0., 0., 0., 0., 1., 0., 0., 0., 0., 0., 0., 0., 0.,\n",
      "       0., 1., 0., 0., 0., 0., 0., 0., 0., 0., 0., 0., 0., 0., 1., 0., 0.,\n",
      "       1., 0., 0., 0., 0., 0., 0., 0., 0., 0., 0., 0., 0., 0., 1., 0., 0.,\n",
      "       0., 0., 0., 1., 0., 0., 0., 0., 0., 0., 0., 0., 0., 1., 0., 0., 0.,\n",
      "       0., 1., 0., 0., 0., 1., 0., 0., 0., 0., 0., 0., 0., 0., 0., 0., 0.,\n",
      "       0., 0., 0., 0., 0., 0., 0., 0., 0., 0., 0., 0., 0., 0., 0., 0., 0.,\n",
      "       0., 0., 0., 0., 0., 0., 0., 0., 0., 0., 0., 0., 0., 0., 0., 0., 0.,\n",
      "       0., 0., 0., 0., 0., 0., 0., 0., 0., 0., 0., 0., 0., 0., 0., 0., 0.,\n",
      "       0., 0., 0., 0., 0., 0., 0., 0., 0., 0., 0., 0., 0., 0., 0., 0., 0.,\n",
      "       0., 0., 0., 0., 0., 0., 0., 0., 0., 0., 0., 0., 0., 0., 0., 0., 0.,\n",
      "       0., 0., 0., 0., 0., 0., 0., 0., 0., 0., 0., 0., 0., 0., 0., 0., 0.,\n",
      "       0., 0., 0., 0., 0., 0., 0., 0., 0., 0., 0., 0., 0., 0., 0., 0., 0.,\n",
      "       0., 0., 0., 0., 0., 0., 0., 0., 0., 0., 0., 0., 0., 0., 0., 0., 0.,\n",
      "       0., 0., 0., 0., 0., 0., 0., 0., 0., 0., 0., 0., 0., 0., 0., 0., 0.,\n",
      "       0., 0., 0., 0., 0., 0., 0., 0., 0., 0., 0., 0., 0., 0., 0., 0., 0.,\n",
      "       4.]), 3)\n"
     ]
    }
   ],
   "source": [
    "print(goodmove2vec(parsed_moves[2]))"
   ]
  },
  {
   "cell_type": "code",
   "execution_count": 16,
   "metadata": {},
   "outputs": [],
   "source": [
    "X, Y = zip(*[goodmove2vec(move) for move in parsed_moves])\n",
    "X = np.stack(X)\n",
    "Y = np.stack(Y)"
   ]
  },
  {
   "cell_type": "code",
   "execution_count": 24,
   "metadata": {},
   "outputs": [
    {
     "name": "stdout",
     "output_type": "stream",
     "text": [
      "Counter({2: 2498, 1: 1362, 0: 1200})\n"
     ]
    }
   ],
   "source": [
    "from collections import Counter\n",
    "c = Counter(Y)\n",
    "print(c)"
   ]
  },
  {
   "cell_type": "code",
   "execution_count": 10,
   "metadata": {},
   "outputs": [
    {
     "name": "stdout",
     "output_type": "stream",
     "text": [
      "Collecting xgboost\n",
      "  Downloading xgboost-1.7.3-py3-none-win_amd64.whl (89.1 MB)\n",
      "     --------------------------------------- 89.1/89.1 MB 31.2 MB/s eta 0:00:00\n",
      "Requirement already satisfied: scipy in c:\\users\\theoa\\anaconda3\\lib\\site-packages (from xgboost) (1.9.3)\n",
      "Requirement already satisfied: numpy in c:\\users\\theoa\\anaconda3\\lib\\site-packages (from xgboost) (1.23.5)\n",
      "Installing collected packages: xgboost\n",
      "Successfully installed xgboost-1.7.3\n"
     ]
    }
   ],
   "source": [
    "!python -m pip install xgboost"
   ]
  },
  {
   "cell_type": "code",
   "execution_count": 17,
   "metadata": {},
   "outputs": [
    {
     "name": "stdout",
     "output_type": "stream",
     "text": [
      "[[0. 0. 0. ... 0. 0. 2.]\n",
      " [0. 0. 0. ... 0. 0. 2.]\n",
      " [0. 1. 0. ... 0. 0. 2.]\n",
      " ...\n",
      " [0. 0. 1. ... 0. 0. 4.]\n",
      " [0. 0. 1. ... 0. 0. 2.]\n",
      " [1. 0. 0. ... 0. 0. 4.]] [2 0 0 0 1 2 1 1 0 0]\n"
     ]
    }
   ],
   "source": [
    "import xgboost as xgb\n",
    "from sklearn.model_selection import train_test_split\n",
    "from sklearn.metrics import mean_squared_error\n",
    "from sklearn.metrics import accuracy_score\n",
    "\n",
    "xtrain, xtest, ytrain, ytest = train_test_split(X, Y, test_size=0.2)\n",
    "print(xtrain[:10], ytrain[:10])"
   ]
  },
  {
   "cell_type": "code",
   "execution_count": 12,
   "metadata": {},
   "outputs": [
    {
     "data": {
      "text/plain": [
       "XGBClassifier(base_score=None, booster=None, callbacks=None,\n",
       "              colsample_bylevel=None, colsample_bynode=None,\n",
       "              colsample_bytree=None, early_stopping_rounds=None,\n",
       "              enable_categorical=False, eval_metric=None, feature_types=None,\n",
       "              gamma=None, gpu_id=None, grow_policy=None, importance_type=None,\n",
       "              interaction_constraints=None, learning_rate=None, max_bin=None,\n",
       "              max_cat_threshold=None, max_cat_to_onehot=None,\n",
       "              max_delta_step=None, max_depth=5, max_leaves=None,\n",
       "              min_child_weight=None, missing=nan, monotone_constraints=None,\n",
       "              n_estimators=800, n_jobs=None, num_class=4,\n",
       "              num_parallel_tree=None, objective='multi:softmax', ...)"
      ]
     },
     "execution_count": 12,
     "metadata": {},
     "output_type": "execute_result"
    }
   ],
   "source": [
    "xgbc = xgb.XGBClassifier(max_depth = 5, n_estimators = 800, objective='multi:softmax', num_class = 4)\n",
    "xgbc.fit(xtrain, ytrain)"
   ]
  },
  {
   "cell_type": "code",
   "execution_count": 13,
   "metadata": {},
   "outputs": [
    {
     "name": "stdout",
     "output_type": "stream",
     "text": [
      "RMSE: 1.56% Accuracy: 46.701846965699204%\n"
     ]
    }
   ],
   "source": [
    "ypred = xgbc.predict(xtest)\n",
    "mse = mean_squared_error(ytest, ypred)\n",
    "acc = accuracy_score(ytest, ypred)\n",
    "print(\"RMSE: %.2f\" % (mse**(1/2.0)) + \"% Accuracy:\", str(acc*100)+\"%\" ) "
   ]
  },
  {
   "cell_type": "code",
   "execution_count": 16,
   "metadata": {},
   "outputs": [],
   "source": [
    "param_grid = {\n",
    "    \"max_depth\": [3, 4, 5, 7],\n",
    "    \"learning_rate\": [0.1, 0.01, 0.05],\n",
    "    \"gamma\": [0, 0.25, 1],\n",
    "    \"reg_lambda\": [0, 1, 10],\n",
    "    \"subsample\": [0.8],\n",
    "    \"colsample_bytree\": [0.5],\n",
    "    #'updater': ['grow_gpu']\n",
    "}\n",
    "from sklearn.model_selection import GridSearchCV\n",
    "grid_cv = GridSearchCV(xgbc, param_grid, n_jobs=-1, cv=3, scoring=\"accuracy\")"
   ]
  },
  {
   "cell_type": "code",
   "execution_count": 17,
   "metadata": {},
   "outputs": [],
   "source": [
    "_ = grid_cv.fit(xtrain, ytrain)"
   ]
  },
  {
   "cell_type": "code",
   "execution_count": 19,
   "metadata": {},
   "outputs": [
    {
     "name": "stdout",
     "output_type": "stream",
     "text": [
      "{'colsample_bytree': 0.5, 'gamma': 1, 'learning_rate': 0.01, 'max_depth': 3, 'reg_lambda': 10, 'subsample': 0.8}\n",
      "0.49174917491749176\n"
     ]
    }
   ],
   "source": [
    "print(grid_cv.best_params_)\n",
    "print(grid_cv.best_score_)"
   ]
  },
  {
   "cell_type": "code",
   "execution_count": 18,
   "metadata": {},
   "outputs": [
    {
     "data": {
      "text/plain": [
       "XGBClassifier(base_score=None, booster=None, callbacks=None,\n",
       "              colsample_bylevel=None, colsample_bynode=None,\n",
       "              colsample_bytree=0.5, early_stopping_rounds=None,\n",
       "              enable_categorical=False, eval_metric=None, feature_types=None,\n",
       "              gamma=1, gpu_id=None, grow_policy=None, importance_type=None,\n",
       "              interaction_constraints=None, learning_rate=0.01, max_bin=None,\n",
       "              max_cat_threshold=None, max_cat_to_onehot=None,\n",
       "              max_delta_step=None, max_depth=3, max_leaves=None,\n",
       "              min_child_weight=None, missing=nan, monotone_constraints=None,\n",
       "              n_estimators=800, n_jobs=None, num_class=3,\n",
       "              num_parallel_tree=None, objective='multi:softmax', ...)"
      ]
     },
     "execution_count": 18,
     "metadata": {},
     "output_type": "execute_result"
    }
   ],
   "source": [
    "best_params = {'colsample_bytree': 0.5, 'gamma': 1, 'learning_rate': 0.01, 'max_depth': 3, 'reg_lambda': 10, 'subsample': 0.8}\n",
    "xgbc = xgb.XGBClassifier( n_estimators = 800, objective='multi:softmax', num_class = 3, **best_params)\n",
    "xgbc.fit(xtrain, ytrain)"
   ]
  },
  {
   "cell_type": "code",
   "execution_count": 19,
   "metadata": {},
   "outputs": [
    {
     "name": "stdout",
     "output_type": "stream",
     "text": [
      "RMSE: 0.95% Accuracy: 57.70750988142292%\n"
     ]
    }
   ],
   "source": [
    "ypred = xgbc.predict(xtest)\n",
    "mse = mean_squared_error(ytest, ypred)\n",
    "acc = accuracy_score(ytest, ypred)\n",
    "print(\"RMSE: %.2f\" % (mse**(1/2.0)) + \"% Accuracy:\", str(acc*100)+\"%\" ) "
   ]
  },
  {
   "cell_type": "code",
   "execution_count": 22,
   "metadata": {},
   "outputs": [
    {
     "name": "stdout",
     "output_type": "stream",
     "text": [
      "['As', '7c', '2d', 'Tc', '3d']\n",
      "raise\n"
     ]
    }
   ],
   "source": [
    "testhand = ['As', '7c', '2d','Tc',\"3d\"]\n",
    "print(testhand)\n",
    "pred_class = xgbc.predict([card_strs2vec(testhand)])[0]\n",
    "print([\"call\", \"check\", \"raise\"][pred_class])"
   ]
  },
  {
   "cell_type": "code",
   "execution_count": 22,
   "metadata": {},
   "outputs": [],
   "source": [
    "import pickle\n",
    "file_name = \"xgb_model.pkl\"\n",
    "\n",
    "# save\n",
    "pickle.dump(xgbc, open(file_name, \"wb\"))\n"
   ]
  },
  {
   "cell_type": "code",
   "execution_count": 8,
   "metadata": {},
   "outputs": [
    {
     "name": "stdout",
     "output_type": "stream",
     "text": [
      "['As', 'Ac', 'Ad', 'Tc', '3d']\n",
      "fold\n"
     ]
    }
   ],
   "source": [
    "import xgboost as xgb\n",
    "import pickle\n",
    "file_name = \"xgb_model.pkl\"\n",
    "\n",
    "xgbc_model = pickle.load(open(file_name, \"rb\"))\n",
    "testhand = ['As', 'Ac', 'Ad','Tc',\"3d\"]\n",
    "print(testhand)\n",
    "pred_class = xgbc_model.predict([card_strs2vec(testhand)])[0]\n",
    "print([\"fold\", \"call\", \"check\", \"raise\"][pred_class])"
   ]
  }
 ],
 "metadata": {
  "kernelspec": {
   "display_name": "base",
   "language": "python",
   "name": "python3"
  },
  "language_info": {
   "codemirror_mode": {
    "name": "ipython",
    "version": 3
   },
   "file_extension": ".py",
   "mimetype": "text/x-python",
   "name": "python",
   "nbconvert_exporter": "python",
   "pygments_lexer": "ipython3",
   "version": "3.8.15 (default, Nov 24 2022, 14:38:14) [MSC v.1916 64 bit (AMD64)]"
  },
  "orig_nbformat": 4,
  "vscode": {
   "interpreter": {
    "hash": "9900fb86eb791649ee39f16951d1899f87b8e9c1a9f120c98b0fd5c3876333d7"
   }
  }
 },
 "nbformat": 4,
 "nbformat_minor": 2
}
